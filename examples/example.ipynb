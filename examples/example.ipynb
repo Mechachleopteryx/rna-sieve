{
 "cells": [
  {
   "cell_type": "code",
   "execution_count": 10,
   "metadata": {},
   "outputs": [
    {
     "name": "stdout",
     "output_type": "stream",
     "text": [
      "The autoreload extension is already loaded. To reload it, use:\n",
      "  %reload_ext autoreload\n"
     ]
    }
   ],
   "source": [
    "%load_ext autoreload\n",
    "%autoreload 2"
   ]
  },
  {
   "cell_type": "code",
   "execution_count": 11,
   "metadata": {},
   "outputs": [],
   "source": [
    "import sys\n",
    "sys.path.append('../')"
   ]
  },
  {
   "cell_type": "code",
   "execution_count": 31,
   "metadata": {},
   "outputs": [],
   "source": [
    "import numpy as np\n",
    "import pandas as pd\n",
    "import anndata\n",
    "from rnasieve.preprocessing import model_from_raw_counts"
   ]
  },
  {
   "cell_type": "code",
   "execution_count": 14,
   "metadata": {},
   "outputs": [
    {
     "name": "stderr",
     "output_type": "stream",
     "text": [
      "/usr/local/lib/python3.7/site-packages/anndata/core/anndata.py:846: FutureWarning: In anndata v0.7+, arrays contained within an AnnData object will maintain their dimensionality. For example, prior to v0.7 `adata[0, 0].X` returned a scalar and `adata[0, :]` returned a 1d array, post v0.7 they will return two dimensional arrays. If you would like to get a one dimensional array from your AnnData object, consider using the `adata.obs_vector`, `adata.var_vector` methods or accessing the array directly.\n",
      "  warn_flatten()\n"
     ]
    }
   ],
   "source": [
    "# Example raw count prep\n",
    "subset_bulk = anndata.read_h5ad('../example_data/muscle_subset_bulk.h5ad')\n",
    "subset = anndata.read_h5ad('../example_data/muscle_subset.h5ad')\n",
    "\n",
    "# Raw counts prep\n",
    "counts_by_onto_class = {}\n",
    "for sc in subset:\n",
    "    cell_onto_class = sc.obs['cell_ontology_class'][0]\n",
    "    if cell_onto_class not in counts_by_onto_class:\n",
    "        counts_by_onto_class[cell_onto_class] = np.empty((sc.X.shape[0], 0), dtype=np.float32)\n",
    "    counts_by_onto_class[cell_onto_class] = np.hstack((counts_by_onto_class[cell_onto_class], sc.X.reshape((-1, 1))))\n",
    "\n",
    "# Bulk prep\n",
    "G = subset_bulk.n_vars\n",
    "bulk_by_age = {}\n",
    "for bulk in subset_bulk:\n",
    "    age = bulk.obs['Age'][0]\n",
    "    if age not in bulk_by_age:\n",
    "        bulk_by_age[age] = []\n",
    "    bulk_by_age[age].append(bulk.X.reshape(-1, 1))\n",
    "\n",
    "bulk_labels = []\n",
    "psis = np.empty((G, 0), dtype=np.float32)\n",
    "for age in sorted(bulk_by_age.keys()):\n",
    "    bulks = bulk_by_age[age]\n",
    "    for i in range(len(bulks)):\n",
    "        bulk_labels.append(\"{} months, subject {}\".format(age, i))\n",
    "        psis = np.hstack((psis, bulks[i]))"
   ]
  },
  {
   "cell_type": "code",
   "execution_count": 21,
   "metadata": {},
   "outputs": [],
   "source": [
    "model, cleaned_psis = model_from_raw_counts(counts_by_onto_class, psis[:, :2])"
   ]
  },
  {
   "cell_type": "code",
   "execution_count": 27,
   "metadata": {},
   "outputs": [
    {
     "data": {
      "text/html": [
       "<div>\n",
       "<style scoped>\n",
       "    .dataframe tbody tr th:only-of-type {\n",
       "        vertical-align: middle;\n",
       "    }\n",
       "\n",
       "    .dataframe tbody tr th {\n",
       "        vertical-align: top;\n",
       "    }\n",
       "\n",
       "    .dataframe thead th {\n",
       "        text-align: right;\n",
       "    }\n",
       "</style>\n",
       "<table border=\"1\" class=\"dataframe\">\n",
       "  <thead>\n",
       "    <tr style=\"text-align: right;\">\n",
       "      <th></th>\n",
       "      <th>B cell</th>\n",
       "      <th>T cell</th>\n",
       "      <th>endothelial cell</th>\n",
       "      <th>macrophage</th>\n",
       "      <th>mesenchymal stem cell</th>\n",
       "      <th>skeletal muscle satellite cell</th>\n",
       "    </tr>\n",
       "  </thead>\n",
       "  <tbody>\n",
       "    <tr>\n",
       "      <td>Bulk 0</td>\n",
       "      <td>0.027959</td>\n",
       "      <td>0.0</td>\n",
       "      <td>0.149951</td>\n",
       "      <td>0.243414</td>\n",
       "      <td>0.146381</td>\n",
       "      <td>0.432295</td>\n",
       "    </tr>\n",
       "    <tr>\n",
       "      <td>Bulk 1</td>\n",
       "      <td>0.037862</td>\n",
       "      <td>0.0</td>\n",
       "      <td>0.141346</td>\n",
       "      <td>0.286565</td>\n",
       "      <td>0.219227</td>\n",
       "      <td>0.315000</td>\n",
       "    </tr>\n",
       "  </tbody>\n",
       "</table>\n",
       "</div>"
      ],
      "text/plain": [
       "          B cell  T cell  endothelial cell  macrophage  mesenchymal stem cell  \\\n",
       "Bulk 0  0.027959     0.0          0.149951    0.243414               0.146381   \n",
       "Bulk 1  0.037862     0.0          0.141346    0.286565               0.219227   \n",
       "\n",
       "        skeletal muscle satellite cell  \n",
       "Bulk 0                        0.432295  \n",
       "Bulk 1                        0.315000  "
      ]
     },
     "execution_count": 27,
     "metadata": {},
     "output_type": "execute_result"
    }
   ],
   "source": [
    "model.predict(cleaned_psis)"
   ]
  },
  {
   "cell_type": "code",
   "execution_count": 70,
   "metadata": {},
   "outputs": [
    {
     "data": {
      "text/html": [
       "\n",
       "<div id=\"altair-viz-406b105c677a4387a8de950d2fb292ae\"></div>\n",
       "<script type=\"text/javascript\">\n",
       "  (function(spec, embedOpt){\n",
       "    let outputDiv = document.currentScript.previousElementSibling;\n",
       "    if (outputDiv.id !== \"altair-viz-406b105c677a4387a8de950d2fb292ae\") {\n",
       "      outputDiv = document.getElementById(\"altair-viz-406b105c677a4387a8de950d2fb292ae\");\n",
       "    }\n",
       "    const paths = {\n",
       "      \"vega\": \"https://cdn.jsdelivr.net/npm//vega@5?noext\",\n",
       "      \"vega-lib\": \"https://cdn.jsdelivr.net/npm//vega-lib?noext\",\n",
       "      \"vega-lite\": \"https://cdn.jsdelivr.net/npm//vega-lite@4.8.1?noext\",\n",
       "      \"vega-embed\": \"https://cdn.jsdelivr.net/npm//vega-embed@6?noext\",\n",
       "    };\n",
       "\n",
       "    function loadScript(lib) {\n",
       "      return new Promise(function(resolve, reject) {\n",
       "        var s = document.createElement('script');\n",
       "        s.src = paths[lib];\n",
       "        s.async = true;\n",
       "        s.onload = () => resolve(paths[lib]);\n",
       "        s.onerror = () => reject(`Error loading script: ${paths[lib]}`);\n",
       "        document.getElementsByTagName(\"head\")[0].appendChild(s);\n",
       "      });\n",
       "    }\n",
       "\n",
       "    function showError(err) {\n",
       "      outputDiv.innerHTML = `<div class=\"error\" style=\"color:red;\">${err}</div>`;\n",
       "      throw err;\n",
       "    }\n",
       "\n",
       "    function displayChart(vegaEmbed) {\n",
       "      vegaEmbed(outputDiv, spec, embedOpt)\n",
       "        .catch(err => showError(`Javascript Error: ${err.message}<br>This usually means there's a typo in your chart specification. See the javascript console for the full traceback.`));\n",
       "    }\n",
       "\n",
       "    if(typeof define === \"function\" && define.amd) {\n",
       "      requirejs.config({paths});\n",
       "      require([\"vega-embed\"], displayChart, err => showError(`Error loading script: ${err.message}`));\n",
       "    } else if (typeof vegaEmbed === \"function\") {\n",
       "      displayChart(vegaEmbed);\n",
       "    } else {\n",
       "      loadScript(\"vega\")\n",
       "        .then(() => loadScript(\"vega-lite\"))\n",
       "        .then(() => loadScript(\"vega-embed\"))\n",
       "        .catch(showError)\n",
       "        .then(() => displayChart(vegaEmbed));\n",
       "    }\n",
       "  })({\"config\": {\"view\": {\"continuousWidth\": 400, \"continuousHeight\": 300}}, \"data\": {\"name\": \"data-b398056dd27383b737f22929a317be1d\"}, \"mark\": \"bar\", \"encoding\": {\"color\": {\"type\": \"nominal\", \"field\": \"variable\"}, \"column\": {\"type\": \"nominal\", \"field\": \"index\", \"title\": \"Bulk\"}, \"x\": {\"type\": \"nominal\", \"axis\": {\"labels\": false, \"title\": \"Cell Type\"}, \"field\": \"variable\"}, \"y\": {\"type\": \"quantitative\", \"axis\": {\"title\": \"Proportion\"}, \"field\": \"value\"}}, \"title\": \"Muscle Proportion Estimates\", \"$schema\": \"https://vega.github.io/schema/vega-lite/v4.8.1.json\", \"datasets\": {\"data-b398056dd27383b737f22929a317be1d\": [{\"index\": \"Bulk 0\", \"variable\": \"B cell\", \"value\": 0.02795921591736283}, {\"index\": \"Bulk 1\", \"variable\": \"B cell\", \"value\": 0.037861804416461774}, {\"index\": \"Bulk 0\", \"variable\": \"T cell\", \"value\": 0.0}, {\"index\": \"Bulk 1\", \"variable\": \"T cell\", \"value\": 0.0}, {\"index\": \"Bulk 0\", \"variable\": \"endothelial cell\", \"value\": 0.14995130251712138}, {\"index\": \"Bulk 1\", \"variable\": \"endothelial cell\", \"value\": 0.14134605388994556}, {\"index\": \"Bulk 0\", \"variable\": \"macrophage\", \"value\": 0.24341354298780377}, {\"index\": \"Bulk 1\", \"variable\": \"macrophage\", \"value\": 0.2865653283593116}, {\"index\": \"Bulk 0\", \"variable\": \"mesenchymal stem cell\", \"value\": 0.14638071593546567}, {\"index\": \"Bulk 1\", \"variable\": \"mesenchymal stem cell\", \"value\": 0.21922703476273908}, {\"index\": \"Bulk 0\", \"variable\": \"skeletal muscle satellite cell\", \"value\": 0.4322952226422464}, {\"index\": \"Bulk 1\", \"variable\": \"skeletal muscle satellite cell\", \"value\": 0.314999778571542}]}}, {\"mode\": \"vega-lite\"});\n",
       "</script>"
      ],
      "text/plain": [
       "alt.Chart(...)"
      ]
     },
     "execution_count": 70,
     "metadata": {},
     "output_type": "execute_result"
    }
   ],
   "source": [
    "model.plot_proportions('bar').properties(title=\"Muscle Proportion Estimates\")"
   ]
  },
  {
   "cell_type": "code",
   "execution_count": 71,
   "metadata": {},
   "outputs": [
    {
     "data": {
      "text/html": [
       "\n",
       "<div id=\"altair-viz-7fa9bd39c63e48e1bc4b049b06bdc5a3\"></div>\n",
       "<script type=\"text/javascript\">\n",
       "  (function(spec, embedOpt){\n",
       "    let outputDiv = document.currentScript.previousElementSibling;\n",
       "    if (outputDiv.id !== \"altair-viz-7fa9bd39c63e48e1bc4b049b06bdc5a3\") {\n",
       "      outputDiv = document.getElementById(\"altair-viz-7fa9bd39c63e48e1bc4b049b06bdc5a3\");\n",
       "    }\n",
       "    const paths = {\n",
       "      \"vega\": \"https://cdn.jsdelivr.net/npm//vega@5?noext\",\n",
       "      \"vega-lib\": \"https://cdn.jsdelivr.net/npm//vega-lib?noext\",\n",
       "      \"vega-lite\": \"https://cdn.jsdelivr.net/npm//vega-lite@4.8.1?noext\",\n",
       "      \"vega-embed\": \"https://cdn.jsdelivr.net/npm//vega-embed@6?noext\",\n",
       "    };\n",
       "\n",
       "    function loadScript(lib) {\n",
       "      return new Promise(function(resolve, reject) {\n",
       "        var s = document.createElement('script');\n",
       "        s.src = paths[lib];\n",
       "        s.async = true;\n",
       "        s.onload = () => resolve(paths[lib]);\n",
       "        s.onerror = () => reject(`Error loading script: ${paths[lib]}`);\n",
       "        document.getElementsByTagName(\"head\")[0].appendChild(s);\n",
       "      });\n",
       "    }\n",
       "\n",
       "    function showError(err) {\n",
       "      outputDiv.innerHTML = `<div class=\"error\" style=\"color:red;\">${err}</div>`;\n",
       "      throw err;\n",
       "    }\n",
       "\n",
       "    function displayChart(vegaEmbed) {\n",
       "      vegaEmbed(outputDiv, spec, embedOpt)\n",
       "        .catch(err => showError(`Javascript Error: ${err.message}<br>This usually means there's a typo in your chart specification. See the javascript console for the full traceback.`));\n",
       "    }\n",
       "\n",
       "    if(typeof define === \"function\" && define.amd) {\n",
       "      requirejs.config({paths});\n",
       "      require([\"vega-embed\"], displayChart, err => showError(`Error loading script: ${err.message}`));\n",
       "    } else if (typeof vegaEmbed === \"function\") {\n",
       "      displayChart(vegaEmbed);\n",
       "    } else {\n",
       "      loadScript(\"vega\")\n",
       "        .then(() => loadScript(\"vega-lite\"))\n",
       "        .then(() => loadScript(\"vega-embed\"))\n",
       "        .catch(showError)\n",
       "        .then(() => displayChart(vegaEmbed));\n",
       "    }\n",
       "  })({\"config\": {\"view\": {\"continuousWidth\": 400, \"continuousHeight\": 300}}, \"data\": {\"name\": \"data-b398056dd27383b737f22929a317be1d\"}, \"mark\": \"bar\", \"encoding\": {\"color\": {\"type\": \"nominal\", \"field\": \"variable\"}, \"x\": {\"type\": \"nominal\", \"axis\": {\"title\": \"Bulk\"}, \"field\": \"index\"}, \"y\": {\"type\": \"quantitative\", \"aggregate\": \"sum\", \"axis\": {\"title\": \"Proportion\"}, \"field\": \"value\", \"stack\": \"normalize\"}}, \"title\": \"Muscle Proportion Estimates\", \"$schema\": \"https://vega.github.io/schema/vega-lite/v4.8.1.json\", \"datasets\": {\"data-b398056dd27383b737f22929a317be1d\": [{\"index\": \"Bulk 0\", \"variable\": \"B cell\", \"value\": 0.02795921591736283}, {\"index\": \"Bulk 1\", \"variable\": \"B cell\", \"value\": 0.037861804416461774}, {\"index\": \"Bulk 0\", \"variable\": \"T cell\", \"value\": 0.0}, {\"index\": \"Bulk 1\", \"variable\": \"T cell\", \"value\": 0.0}, {\"index\": \"Bulk 0\", \"variable\": \"endothelial cell\", \"value\": 0.14995130251712138}, {\"index\": \"Bulk 1\", \"variable\": \"endothelial cell\", \"value\": 0.14134605388994556}, {\"index\": \"Bulk 0\", \"variable\": \"macrophage\", \"value\": 0.24341354298780377}, {\"index\": \"Bulk 1\", \"variable\": \"macrophage\", \"value\": 0.2865653283593116}, {\"index\": \"Bulk 0\", \"variable\": \"mesenchymal stem cell\", \"value\": 0.14638071593546567}, {\"index\": \"Bulk 1\", \"variable\": \"mesenchymal stem cell\", \"value\": 0.21922703476273908}, {\"index\": \"Bulk 0\", \"variable\": \"skeletal muscle satellite cell\", \"value\": 0.4322952226422464}, {\"index\": \"Bulk 1\", \"variable\": \"skeletal muscle satellite cell\", \"value\": 0.314999778571542}]}}, {\"mode\": \"vega-lite\"});\n",
       "</script>"
      ],
      "text/plain": [
       "alt.Chart(...)"
      ]
     },
     "execution_count": 71,
     "metadata": {},
     "output_type": "execute_result"
    }
   ],
   "source": [
    "model.plot_proportions('stacked').properties(title=\"Muscle Proportion Estimates\")"
   ]
  }
 ],
 "metadata": {
  "kernelspec": {
   "display_name": "Python 3",
   "language": "python",
   "name": "python3"
  },
  "language_info": {
   "codemirror_mode": {
    "name": "ipython",
    "version": 3
   },
   "file_extension": ".py",
   "mimetype": "text/x-python",
   "name": "python",
   "nbconvert_exporter": "python",
   "pygments_lexer": "ipython3",
   "version": "3.7.3"
  }
 },
 "nbformat": 4,
 "nbformat_minor": 2
}
