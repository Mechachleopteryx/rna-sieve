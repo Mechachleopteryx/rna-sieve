{
 "cells": [
  {
   "cell_type": "code",
   "execution_count": 10,
   "metadata": {},
   "outputs": [
    {
     "name": "stdout",
     "output_type": "stream",
     "text": [
      "The autoreload extension is already loaded. To reload it, use:\n",
      "  %reload_ext autoreload\n"
     ]
    }
   ],
   "source": [
    "%load_ext autoreload\n",
    "%autoreload 2"
   ]
  },
  {
   "cell_type": "code",
   "execution_count": 11,
   "metadata": {},
   "outputs": [],
   "source": [
    "import sys\n",
    "sys.path.append('../')"
   ]
  },
  {
   "cell_type": "code",
   "execution_count": 31,
   "metadata": {},
   "outputs": [],
   "source": [
    "import numpy as np\n",
    "import pandas as pd\n",
    "import anndata\n",
    "from rnasieve.preprocessing import model_from_raw_counts"
   ]
  },
  {
   "cell_type": "code",
   "execution_count": 14,
   "metadata": {},
   "outputs": [
    {
     "name": "stderr",
     "output_type": "stream",
     "text": [
      "/usr/local/lib/python3.7/site-packages/anndata/core/anndata.py:846: FutureWarning: In anndata v0.7+, arrays contained within an AnnData object will maintain their dimensionality. For example, prior to v0.7 `adata[0, 0].X` returned a scalar and `adata[0, :]` returned a 1d array, post v0.7 they will return two dimensional arrays. If you would like to get a one dimensional array from your AnnData object, consider using the `adata.obs_vector`, `adata.var_vector` methods or accessing the array directly.\n",
      "  warn_flatten()\n"
     ]
    }
   ],
   "source": [
    "# Example raw count prep\n",
    "subset_bulk = anndata.read_h5ad('../example_data/muscle_subset_bulk.h5ad')\n",
    "subset = anndata.read_h5ad('../example_data/muscle_subset.h5ad')\n",
    "\n",
    "# Raw counts prep\n",
    "counts_by_onto_class = {}\n",
    "for sc in subset:\n",
    "    cell_onto_class = sc.obs['cell_ontology_class'][0]\n",
    "    if cell_onto_class not in counts_by_onto_class:\n",
    "        counts_by_onto_class[cell_onto_class] = np.empty((sc.X.shape[0], 0), dtype=np.float32)\n",
    "    counts_by_onto_class[cell_onto_class] = np.hstack((counts_by_onto_class[cell_onto_class], sc.X.reshape((-1, 1))))\n",
    "\n",
    "# Bulk prep\n",
    "G = subset_bulk.n_vars\n",
    "bulk_by_age = {}\n",
    "for bulk in subset_bulk:\n",
    "    age = bulk.obs['Age'][0]\n",
    "    if age not in bulk_by_age:\n",
    "        bulk_by_age[age] = []\n",
    "    bulk_by_age[age].append(bulk.X.reshape(-1, 1))\n",
    "\n",
    "bulk_labels = []\n",
    "psis = np.empty((G, 0), dtype=np.float32)\n",
    "for age in sorted(bulk_by_age.keys()):\n",
    "    bulks = bulk_by_age[age]\n",
    "    for i in range(len(bulks)):\n",
    "        bulk_labels.append(\"{} months, subject {}\".format(age, i))\n",
    "        psis = np.hstack((psis, bulks[i]))"
   ]
  },
  {
   "cell_type": "code",
   "execution_count": 21,
   "metadata": {},
   "outputs": [],
   "source": [
    "model, cleaned_psis = model_from_raw_counts(counts_by_onto_class, psis[:, :2])"
   ]
  },
  {
   "cell_type": "code",
   "execution_count": 126,
   "metadata": {},
   "outputs": [
    {
     "data": {
      "text/html": [
       "<div>\n",
       "<style scoped>\n",
       "    .dataframe tbody tr th:only-of-type {\n",
       "        vertical-align: middle;\n",
       "    }\n",
       "\n",
       "    .dataframe tbody tr th {\n",
       "        vertical-align: top;\n",
       "    }\n",
       "\n",
       "    .dataframe thead th {\n",
       "        text-align: right;\n",
       "    }\n",
       "</style>\n",
       "<table border=\"1\" class=\"dataframe\">\n",
       "  <thead>\n",
       "    <tr style=\"text-align: right;\">\n",
       "      <th></th>\n",
       "      <th>B cell</th>\n",
       "      <th>T cell</th>\n",
       "      <th>endothelial cell</th>\n",
       "      <th>macrophage</th>\n",
       "      <th>mesenchymal stem cell</th>\n",
       "      <th>skeletal muscle satellite cell</th>\n",
       "    </tr>\n",
       "  </thead>\n",
       "  <tbody>\n",
       "    <tr>\n",
       "      <td>Bulk 0</td>\n",
       "      <td>0.027959</td>\n",
       "      <td>0.0</td>\n",
       "      <td>0.149951</td>\n",
       "      <td>0.243413</td>\n",
       "      <td>0.146380</td>\n",
       "      <td>0.432296</td>\n",
       "    </tr>\n",
       "    <tr>\n",
       "      <td>Bulk 1</td>\n",
       "      <td>0.037862</td>\n",
       "      <td>0.0</td>\n",
       "      <td>0.141346</td>\n",
       "      <td>0.286565</td>\n",
       "      <td>0.219226</td>\n",
       "      <td>0.315001</td>\n",
       "    </tr>\n",
       "  </tbody>\n",
       "</table>\n",
       "</div>"
      ],
      "text/plain": [
       "          B cell  T cell  endothelial cell  macrophage  mesenchymal stem cell  \\\n",
       "Bulk 0  0.027959     0.0          0.149951    0.243413               0.146380   \n",
       "Bulk 1  0.037862     0.0          0.141346    0.286565               0.219226   \n",
       "\n",
       "        skeletal muscle satellite cell  \n",
       "Bulk 0                        0.432296  \n",
       "Bulk 1                        0.315001  "
      ]
     },
     "execution_count": 126,
     "metadata": {},
     "output_type": "execute_result"
    }
   ],
   "source": [
    "model.predict(cleaned_psis)"
   ]
  },
  {
   "cell_type": "code",
   "execution_count": 128,
   "metadata": {},
   "outputs": [
    {
     "data": {
      "text/plain": [
       "[[(-0.19694897509366274, 0.2528673112901627),\n",
       "  (-0.12258931535119333, 0.12258931535119333),\n",
       "  (-0.05741237671602631, 0.35731515691076676),\n",
       "  (-0.05093143169279657, 0.5377580630709381),\n",
       "  (-0.21012842470297996, 0.5028884721371275),\n",
       "  (0.2750845035215425, 0.5895077012749277)],\n",
       " [(-0.1837377780281255, 0.25946123837141494),\n",
       "  (-0.12176976093855874, 0.12176976093855874),\n",
       "  (-0.0461883751451477, 0.32888065268067745),\n",
       "  (0.028347078588426555, 0.5447835225807676),\n",
       "  (-0.0970757410144995, 0.5355280496947445),\n",
       "  (0.1542503724583583, 0.4757509798133833)]]"
      ]
     },
     "execution_count": 128,
     "metadata": {},
     "output_type": "execute_result"
    }
   ],
   "source": [
    "model.compute_marginal_confidence_intervals()"
   ]
  },
  {
   "cell_type": "code",
   "execution_count": 129,
   "metadata": {},
   "outputs": [
    {
     "data": {
      "text/html": [
       "\n",
       "<div id=\"altair-viz-e978735c00cf4f1fb7080fd07ed0005a\"></div>\n",
       "<script type=\"text/javascript\">\n",
       "  (function(spec, embedOpt){\n",
       "    let outputDiv = document.currentScript.previousElementSibling;\n",
       "    if (outputDiv.id !== \"altair-viz-e978735c00cf4f1fb7080fd07ed0005a\") {\n",
       "      outputDiv = document.getElementById(\"altair-viz-e978735c00cf4f1fb7080fd07ed0005a\");\n",
       "    }\n",
       "    const paths = {\n",
       "      \"vega\": \"https://cdn.jsdelivr.net/npm//vega@5?noext\",\n",
       "      \"vega-lib\": \"https://cdn.jsdelivr.net/npm//vega-lib?noext\",\n",
       "      \"vega-lite\": \"https://cdn.jsdelivr.net/npm//vega-lite@4.8.1?noext\",\n",
       "      \"vega-embed\": \"https://cdn.jsdelivr.net/npm//vega-embed@6?noext\",\n",
       "    };\n",
       "\n",
       "    function loadScript(lib) {\n",
       "      return new Promise(function(resolve, reject) {\n",
       "        var s = document.createElement('script');\n",
       "        s.src = paths[lib];\n",
       "        s.async = true;\n",
       "        s.onload = () => resolve(paths[lib]);\n",
       "        s.onerror = () => reject(`Error loading script: ${paths[lib]}`);\n",
       "        document.getElementsByTagName(\"head\")[0].appendChild(s);\n",
       "      });\n",
       "    }\n",
       "\n",
       "    function showError(err) {\n",
       "      outputDiv.innerHTML = `<div class=\"error\" style=\"color:red;\">${err}</div>`;\n",
       "      throw err;\n",
       "    }\n",
       "\n",
       "    function displayChart(vegaEmbed) {\n",
       "      vegaEmbed(outputDiv, spec, embedOpt)\n",
       "        .catch(err => showError(`Javascript Error: ${err.message}<br>This usually means there's a typo in your chart specification. See the javascript console for the full traceback.`));\n",
       "    }\n",
       "\n",
       "    if(typeof define === \"function\" && define.amd) {\n",
       "      requirejs.config({paths});\n",
       "      require([\"vega-embed\"], displayChart, err => showError(`Error loading script: ${err.message}`));\n",
       "    } else if (typeof vegaEmbed === \"function\") {\n",
       "      displayChart(vegaEmbed);\n",
       "    } else {\n",
       "      loadScript(\"vega\")\n",
       "        .then(() => loadScript(\"vega-lite\"))\n",
       "        .then(() => loadScript(\"vega-embed\"))\n",
       "        .catch(showError)\n",
       "        .then(() => displayChart(vegaEmbed));\n",
       "    }\n",
       "  })({\"config\": {\"view\": {\"continuousWidth\": 400, \"continuousHeight\": 300}}, \"data\": {\"name\": \"data-e65c1768240bb8c05b920c07466f90d1\"}, \"facet\": {\"column\": {\"type\": \"nominal\", \"field\": \"index\", \"title\": \"Bulk\"}}, \"spec\": {\"layer\": [{\"mark\": \"bar\", \"encoding\": {\"color\": {\"type\": \"nominal\", \"field\": \"cell_type\"}, \"x\": {\"type\": \"nominal\", \"axis\": {\"labels\": false, \"title\": \"Cell Type\"}, \"field\": \"cell_type\"}, \"y\": {\"type\": \"quantitative\", \"axis\": {\"title\": \"Proportion\"}, \"field\": \"proportion\"}}}, {\"mark\": \"errorbar\", \"encoding\": {\"x\": {\"type\": \"nominal\", \"axis\": {\"labels\": false, \"title\": \"Cell Type\"}, \"field\": \"cell_type\"}, \"y\": {\"type\": \"quantitative\", \"field\": \"ci_low\"}, \"y2\": {\"field\": \"ci_high\"}}}]}, \"title\": \"Muscle Proportion Estimates\", \"$schema\": \"https://vega.github.io/schema/vega-lite/v4.8.1.json\", \"datasets\": {\"data-e65c1768240bb8c05b920c07466f90d1\": [{\"index\": \"Bulk 0\", \"cell_type\": \"B cell\", \"proportion\": 0.02795916809824999, \"ci_err\": 0.2249081431919127, \"ci_low\": 0.0, \"ci_high\": 0.2528673112901627}, {\"index\": \"Bulk 1\", \"cell_type\": \"B cell\", \"proportion\": 0.03786173017164473, \"ci_err\": 0.2215995081997702, \"ci_low\": 0.0, \"ci_high\": 0.25946123837141494}, {\"index\": \"Bulk 0\", \"cell_type\": \"T cell\", \"proportion\": 0.0, \"ci_err\": 0.12258931535119333, \"ci_low\": 0.0, \"ci_high\": 0.12258931535119333}, {\"index\": \"Bulk 1\", \"cell_type\": \"T cell\", \"proportion\": 0.0, \"ci_err\": 0.12176976093855874, \"ci_low\": 0.0, \"ci_high\": 0.12176976093855874}, {\"index\": \"Bulk 0\", \"cell_type\": \"endothelial cell\", \"proportion\": 0.1499513900973702, \"ci_err\": 0.20736376681339652, \"ci_low\": 0.0, \"ci_high\": 0.35731515691076676}, {\"index\": \"Bulk 1\", \"cell_type\": \"endothelial cell\", \"proportion\": 0.14134613876776486, \"ci_err\": 0.1875345139129126, \"ci_low\": 0.0, \"ci_high\": 0.32888065268067745}, {\"index\": \"Bulk 0\", \"cell_type\": \"macrophage\", \"proportion\": 0.24341331568907076, \"ci_err\": 0.29434474738186733, \"ci_low\": 0.0, \"ci_high\": 0.5377580630709381}, {\"index\": \"Bulk 1\", \"cell_type\": \"macrophage\", \"proportion\": 0.28656530058459706, \"ci_err\": 0.2582182219961705, \"ci_low\": 0.028347078588426555, \"ci_high\": 0.5447835225807676}, {\"index\": \"Bulk 0\", \"cell_type\": \"mesenchymal stem cell\", \"proportion\": 0.1463800237170738, \"ci_err\": 0.35650844842005375, \"ci_low\": 0.0, \"ci_high\": 0.5028884721371275}, {\"index\": \"Bulk 1\", \"cell_type\": \"mesenchymal stem cell\", \"proportion\": 0.21922615434012255, \"ci_err\": 0.31630189535462205, \"ci_low\": 0.0, \"ci_high\": 0.5355280496947445}, {\"index\": \"Bulk 0\", \"cell_type\": \"skeletal muscle satellite cell\", \"proportion\": 0.4322961023982351, \"ci_err\": 0.1572115988766926, \"ci_low\": 0.27508450352154257, \"ci_high\": 0.5895077012749277}, {\"index\": \"Bulk 1\", \"cell_type\": \"skeletal muscle satellite cell\", \"proportion\": 0.3150006761358708, \"ci_err\": 0.16075030367751253, \"ci_low\": 0.15425037245835826, \"ci_high\": 0.4757509798133833}]}}, {\"mode\": \"vega-lite\"});\n",
       "</script>"
      ],
      "text/plain": [
       "alt.FacetChart(...)"
      ]
     },
     "execution_count": 129,
     "metadata": {},
     "output_type": "execute_result"
    }
   ],
   "source": [
    "model.plot_proportions('bar').properties(title=\"Muscle Proportion Estimates\")"
   ]
  },
  {
   "cell_type": "code",
   "execution_count": 130,
   "metadata": {},
   "outputs": [
    {
     "data": {
      "text/html": [
       "\n",
       "<div id=\"altair-viz-63141ea5ec0b48c588f0409e833ef65d\"></div>\n",
       "<script type=\"text/javascript\">\n",
       "  (function(spec, embedOpt){\n",
       "    let outputDiv = document.currentScript.previousElementSibling;\n",
       "    if (outputDiv.id !== \"altair-viz-63141ea5ec0b48c588f0409e833ef65d\") {\n",
       "      outputDiv = document.getElementById(\"altair-viz-63141ea5ec0b48c588f0409e833ef65d\");\n",
       "    }\n",
       "    const paths = {\n",
       "      \"vega\": \"https://cdn.jsdelivr.net/npm//vega@5?noext\",\n",
       "      \"vega-lib\": \"https://cdn.jsdelivr.net/npm//vega-lib?noext\",\n",
       "      \"vega-lite\": \"https://cdn.jsdelivr.net/npm//vega-lite@4.8.1?noext\",\n",
       "      \"vega-embed\": \"https://cdn.jsdelivr.net/npm//vega-embed@6?noext\",\n",
       "    };\n",
       "\n",
       "    function loadScript(lib) {\n",
       "      return new Promise(function(resolve, reject) {\n",
       "        var s = document.createElement('script');\n",
       "        s.src = paths[lib];\n",
       "        s.async = true;\n",
       "        s.onload = () => resolve(paths[lib]);\n",
       "        s.onerror = () => reject(`Error loading script: ${paths[lib]}`);\n",
       "        document.getElementsByTagName(\"head\")[0].appendChild(s);\n",
       "      });\n",
       "    }\n",
       "\n",
       "    function showError(err) {\n",
       "      outputDiv.innerHTML = `<div class=\"error\" style=\"color:red;\">${err}</div>`;\n",
       "      throw err;\n",
       "    }\n",
       "\n",
       "    function displayChart(vegaEmbed) {\n",
       "      vegaEmbed(outputDiv, spec, embedOpt)\n",
       "        .catch(err => showError(`Javascript Error: ${err.message}<br>This usually means there's a typo in your chart specification. See the javascript console for the full traceback.`));\n",
       "    }\n",
       "\n",
       "    if(typeof define === \"function\" && define.amd) {\n",
       "      requirejs.config({paths});\n",
       "      require([\"vega-embed\"], displayChart, err => showError(`Error loading script: ${err.message}`));\n",
       "    } else if (typeof vegaEmbed === \"function\") {\n",
       "      displayChart(vegaEmbed);\n",
       "    } else {\n",
       "      loadScript(\"vega\")\n",
       "        .then(() => loadScript(\"vega-lite\"))\n",
       "        .then(() => loadScript(\"vega-embed\"))\n",
       "        .catch(showError)\n",
       "        .then(() => displayChart(vegaEmbed));\n",
       "    }\n",
       "  })({\"config\": {\"view\": {\"continuousWidth\": 400, \"continuousHeight\": 300}}, \"data\": {\"name\": \"data-e65c1768240bb8c05b920c07466f90d1\"}, \"mark\": \"bar\", \"encoding\": {\"color\": {\"type\": \"nominal\", \"field\": \"cell_type\"}, \"x\": {\"type\": \"nominal\", \"axis\": {\"title\": \"Bulk\"}, \"field\": \"index\"}, \"y\": {\"type\": \"quantitative\", \"aggregate\": \"sum\", \"axis\": {\"title\": \"Proportion\"}, \"field\": \"proportion\", \"stack\": \"normalize\"}}, \"title\": \"Muscle Proportion Estimates\", \"$schema\": \"https://vega.github.io/schema/vega-lite/v4.8.1.json\", \"datasets\": {\"data-e65c1768240bb8c05b920c07466f90d1\": [{\"index\": \"Bulk 0\", \"cell_type\": \"B cell\", \"proportion\": 0.02795916809824999, \"ci_err\": 0.2249081431919127, \"ci_low\": 0.0, \"ci_high\": 0.2528673112901627}, {\"index\": \"Bulk 1\", \"cell_type\": \"B cell\", \"proportion\": 0.03786173017164473, \"ci_err\": 0.2215995081997702, \"ci_low\": 0.0, \"ci_high\": 0.25946123837141494}, {\"index\": \"Bulk 0\", \"cell_type\": \"T cell\", \"proportion\": 0.0, \"ci_err\": 0.12258931535119333, \"ci_low\": 0.0, \"ci_high\": 0.12258931535119333}, {\"index\": \"Bulk 1\", \"cell_type\": \"T cell\", \"proportion\": 0.0, \"ci_err\": 0.12176976093855874, \"ci_low\": 0.0, \"ci_high\": 0.12176976093855874}, {\"index\": \"Bulk 0\", \"cell_type\": \"endothelial cell\", \"proportion\": 0.1499513900973702, \"ci_err\": 0.20736376681339652, \"ci_low\": 0.0, \"ci_high\": 0.35731515691076676}, {\"index\": \"Bulk 1\", \"cell_type\": \"endothelial cell\", \"proportion\": 0.14134613876776486, \"ci_err\": 0.1875345139129126, \"ci_low\": 0.0, \"ci_high\": 0.32888065268067745}, {\"index\": \"Bulk 0\", \"cell_type\": \"macrophage\", \"proportion\": 0.24341331568907076, \"ci_err\": 0.29434474738186733, \"ci_low\": 0.0, \"ci_high\": 0.5377580630709381}, {\"index\": \"Bulk 1\", \"cell_type\": \"macrophage\", \"proportion\": 0.28656530058459706, \"ci_err\": 0.2582182219961705, \"ci_low\": 0.028347078588426555, \"ci_high\": 0.5447835225807676}, {\"index\": \"Bulk 0\", \"cell_type\": \"mesenchymal stem cell\", \"proportion\": 0.1463800237170738, \"ci_err\": 0.35650844842005375, \"ci_low\": 0.0, \"ci_high\": 0.5028884721371275}, {\"index\": \"Bulk 1\", \"cell_type\": \"mesenchymal stem cell\", \"proportion\": 0.21922615434012255, \"ci_err\": 0.31630189535462205, \"ci_low\": 0.0, \"ci_high\": 0.5355280496947445}, {\"index\": \"Bulk 0\", \"cell_type\": \"skeletal muscle satellite cell\", \"proportion\": 0.4322961023982351, \"ci_err\": 0.1572115988766926, \"ci_low\": 0.27508450352154257, \"ci_high\": 0.5895077012749277}, {\"index\": \"Bulk 1\", \"cell_type\": \"skeletal muscle satellite cell\", \"proportion\": 0.3150006761358708, \"ci_err\": 0.16075030367751253, \"ci_low\": 0.15425037245835826, \"ci_high\": 0.4757509798133833}]}}, {\"mode\": \"vega-lite\"});\n",
       "</script>"
      ],
      "text/plain": [
       "alt.Chart(...)"
      ]
     },
     "execution_count": 130,
     "metadata": {},
     "output_type": "execute_result"
    }
   ],
   "source": [
    "model.plot_proportions('stacked').properties(title=\"Muscle Proportion Estimates\")"
   ]
  },
  {
   "cell_type": "code",
   "execution_count": null,
   "metadata": {},
   "outputs": [],
   "source": []
  }
 ],
 "metadata": {
  "kernelspec": {
   "display_name": "Python 3",
   "language": "python",
   "name": "python3"
  }
 },
 "nbformat": 4,
 "nbformat_minor": 2
}
