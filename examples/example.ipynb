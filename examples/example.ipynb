{
 "cells": [
  {
   "cell_type": "code",
   "execution_count": 1,
   "metadata": {},
   "outputs": [],
   "source": [
    "%load_ext autoreload\n",
    "%autoreload 2"
   ]
  },
  {
   "cell_type": "code",
   "execution_count": 4,
   "metadata": {},
   "outputs": [],
   "source": [
    "import sys\n",
    "sys.path.append('../')"
   ]
  },
  {
   "cell_type": "code",
   "execution_count": 5,
   "metadata": {},
   "outputs": [],
   "source": [
    "import numpy as np\n",
    "import pandas as pd\n",
    "import anndata\n",
    "from rnasieve.preprocessing import model_from_raw_counts"
   ]
  },
  {
   "cell_type": "code",
   "execution_count": 6,
   "metadata": {},
   "outputs": [
    {
     "name": "stderr",
     "output_type": "stream",
     "text": [
      "/usr/local/lib/python3.7/site-packages/anndata/core/anndata.py:846: FutureWarning: In anndata v0.7+, arrays contained within an AnnData object will maintain their dimensionality. For example, prior to v0.7 `adata[0, 0].X` returned a scalar and `adata[0, :]` returned a 1d array, post v0.7 they will return two dimensional arrays. If you would like to get a one dimensional array from your AnnData object, consider using the `adata.obs_vector`, `adata.var_vector` methods or accessing the array directly.\n",
      "  warn_flatten()\n"
     ]
    }
   ],
   "source": [
    "# Example raw count prep\n",
    "subset_bulk = anndata.read_h5ad('../example_data/muscle_subset_bulk.h5ad')\n",
    "subset = anndata.read_h5ad('../example_data/muscle_subset.h5ad')\n",
    "\n",
    "# Raw counts prep\n",
    "counts_by_onto_class = {}\n",
    "for sc in subset:\n",
    "    cell_onto_class = sc.obs['cell_ontology_class'][0]\n",
    "    if cell_onto_class not in counts_by_onto_class:\n",
    "        counts_by_onto_class[cell_onto_class] = np.empty((sc.X.shape[0], 0), dtype=np.float32)\n",
    "    counts_by_onto_class[cell_onto_class] = np.hstack((counts_by_onto_class[cell_onto_class], sc.X.reshape((-1, 1))))\n",
    "\n",
    "# Bulk prep\n",
    "G = subset_bulk.n_vars\n",
    "bulk_by_age = {}\n",
    "for bulk in subset_bulk:\n",
    "    age = bulk.obs['Age'][0]\n",
    "    if age not in bulk_by_age:\n",
    "        bulk_by_age[age] = []\n",
    "    bulk_by_age[age].append(bulk.X.reshape(-1, 1))\n",
    "\n",
    "bulk_labels = []\n",
    "psis = np.empty((G, 0), dtype=np.float32)\n",
    "for age in sorted(bulk_by_age.keys()):\n",
    "    bulks = bulk_by_age[age]\n",
    "    for i in range(len(bulks)):\n",
    "        bulk_labels.append(\"{} months, subject {}\".format(age, i))\n",
    "        psis = np.hstack((psis, bulks[i]))"
   ]
  },
  {
   "cell_type": "code",
   "execution_count": 7,
   "metadata": {},
   "outputs": [],
   "source": [
    "model, cleaned_psis = model_from_raw_counts(counts_by_onto_class, psis[:, :2])"
   ]
  },
  {
   "cell_type": "code",
   "execution_count": 8,
   "metadata": {},
   "outputs": [
    {
     "data": {
      "text/html": [
       "<div>\n",
       "<style scoped>\n",
       "    .dataframe tbody tr th:only-of-type {\n",
       "        vertical-align: middle;\n",
       "    }\n",
       "\n",
       "    .dataframe tbody tr th {\n",
       "        vertical-align: top;\n",
       "    }\n",
       "\n",
       "    .dataframe thead th {\n",
       "        text-align: right;\n",
       "    }\n",
       "</style>\n",
       "<table border=\"1\" class=\"dataframe\">\n",
       "  <thead>\n",
       "    <tr style=\"text-align: right;\">\n",
       "      <th></th>\n",
       "      <th>B cell</th>\n",
       "      <th>T cell</th>\n",
       "      <th>endothelial cell</th>\n",
       "      <th>macrophage</th>\n",
       "      <th>mesenchymal stem cell</th>\n",
       "      <th>skeletal muscle satellite cell</th>\n",
       "    </tr>\n",
       "  </thead>\n",
       "  <tbody>\n",
       "    <tr>\n",
       "      <td>Bulk 0</td>\n",
       "      <td>0.027959</td>\n",
       "      <td>0.0</td>\n",
       "      <td>0.149951</td>\n",
       "      <td>0.243414</td>\n",
       "      <td>0.146378</td>\n",
       "      <td>0.432297</td>\n",
       "    </tr>\n",
       "    <tr>\n",
       "      <td>Bulk 1</td>\n",
       "      <td>0.037862</td>\n",
       "      <td>0.0</td>\n",
       "      <td>0.141346</td>\n",
       "      <td>0.286565</td>\n",
       "      <td>0.219228</td>\n",
       "      <td>0.315000</td>\n",
       "    </tr>\n",
       "  </tbody>\n",
       "</table>\n",
       "</div>"
      ],
      "text/plain": [
       "          B cell  T cell  endothelial cell  macrophage  mesenchymal stem cell  \\\n",
       "Bulk 0  0.027959     0.0          0.149951    0.243414               0.146378   \n",
       "Bulk 1  0.037862     0.0          0.141346    0.286565               0.219228   \n",
       "\n",
       "        skeletal muscle satellite cell  \n",
       "Bulk 0                        0.432297  \n",
       "Bulk 1                        0.315000  "
      ]
     },
     "execution_count": 8,
     "metadata": {},
     "output_type": "execute_result"
    }
   ],
   "source": [
    "model.predict(cleaned_psis)"
   ]
  },
  {
   "cell_type": "code",
   "execution_count": 14,
   "metadata": {},
   "outputs": [
    {
     "data": {
      "text/plain": [
       "[[(-0.008607292412463274, 0.06452588854772831),\n",
       "  (-0.01992898235371815, 0.01992898235371815),\n",
       "  (0.11623935575866765, 0.18366257401447142),\n",
       "  (0.19557494414366083, 0.29125332217306144),\n",
       "  (0.08841007624023756, 0.20434690593692423),\n",
       "  (0.4067282077063674, 0.4578660178913444)],\n",
       " [(0.0018342069591793034, 0.07388937649910354),\n",
       "  (-0.01979503227983546, 0.01979503227983546),\n",
       "  (0.11085979696378759, 0.17183142916583524),\n",
       "  (0.24459928145478693, 0.3285301470452854),\n",
       "  (0.1677983165037742, 0.27065700744031973),\n",
       "  (0.28885735502566595, 0.3411430829422621)]]"
      ]
     },
     "execution_count": 14,
     "metadata": {},
     "output_type": "execute_result"
    }
   ],
   "source": [
    "model.compute_marginal_confidence_intervals(sig=0.75)"
   ]
  },
  {
   "cell_type": "code",
   "execution_count": 15,
   "metadata": {},
   "outputs": [
    {
     "data": {
      "text/html": [
       "\n",
       "<div id=\"altair-viz-2c7f294089da4382a2615043ece90d94\"></div>\n",
       "<script type=\"text/javascript\">\n",
       "  (function(spec, embedOpt){\n",
       "    let outputDiv = document.currentScript.previousElementSibling;\n",
       "    if (outputDiv.id !== \"altair-viz-2c7f294089da4382a2615043ece90d94\") {\n",
       "      outputDiv = document.getElementById(\"altair-viz-2c7f294089da4382a2615043ece90d94\");\n",
       "    }\n",
       "    const paths = {\n",
       "      \"vega\": \"https://cdn.jsdelivr.net/npm//vega@5?noext\",\n",
       "      \"vega-lib\": \"https://cdn.jsdelivr.net/npm//vega-lib?noext\",\n",
       "      \"vega-lite\": \"https://cdn.jsdelivr.net/npm//vega-lite@4.8.1?noext\",\n",
       "      \"vega-embed\": \"https://cdn.jsdelivr.net/npm//vega-embed@6?noext\",\n",
       "    };\n",
       "\n",
       "    function loadScript(lib) {\n",
       "      return new Promise(function(resolve, reject) {\n",
       "        var s = document.createElement('script');\n",
       "        s.src = paths[lib];\n",
       "        s.async = true;\n",
       "        s.onload = () => resolve(paths[lib]);\n",
       "        s.onerror = () => reject(`Error loading script: ${paths[lib]}`);\n",
       "        document.getElementsByTagName(\"head\")[0].appendChild(s);\n",
       "      });\n",
       "    }\n",
       "\n",
       "    function showError(err) {\n",
       "      outputDiv.innerHTML = `<div class=\"error\" style=\"color:red;\">${err}</div>`;\n",
       "      throw err;\n",
       "    }\n",
       "\n",
       "    function displayChart(vegaEmbed) {\n",
       "      vegaEmbed(outputDiv, spec, embedOpt)\n",
       "        .catch(err => showError(`Javascript Error: ${err.message}<br>This usually means there's a typo in your chart specification. See the javascript console for the full traceback.`));\n",
       "    }\n",
       "\n",
       "    if(typeof define === \"function\" && define.amd) {\n",
       "      requirejs.config({paths});\n",
       "      require([\"vega-embed\"], displayChart, err => showError(`Error loading script: ${err.message}`));\n",
       "    } else if (typeof vegaEmbed === \"function\") {\n",
       "      displayChart(vegaEmbed);\n",
       "    } else {\n",
       "      loadScript(\"vega\")\n",
       "        .then(() => loadScript(\"vega-lite\"))\n",
       "        .then(() => loadScript(\"vega-embed\"))\n",
       "        .catch(showError)\n",
       "        .then(() => displayChart(vegaEmbed));\n",
       "    }\n",
       "  })({\"config\": {\"view\": {\"continuousWidth\": 400, \"continuousHeight\": 300}}, \"data\": {\"name\": \"data-b72c6f891426c11525a06e27500d1bf9\"}, \"facet\": {\"column\": {\"type\": \"nominal\", \"field\": \"index\", \"title\": \"Bulk\"}}, \"spec\": {\"layer\": [{\"mark\": \"bar\", \"encoding\": {\"color\": {\"type\": \"nominal\", \"field\": \"cell_type\"}, \"x\": {\"type\": \"nominal\", \"axis\": {\"labels\": false, \"title\": \"Cell Type\"}, \"field\": \"cell_type\"}, \"y\": {\"type\": \"quantitative\", \"axis\": {\"title\": \"Proportion\"}, \"field\": \"proportion\"}}}, {\"mark\": \"errorbar\", \"encoding\": {\"x\": {\"type\": \"nominal\", \"axis\": {\"labels\": false, \"title\": \"Cell Type\"}, \"field\": \"cell_type\"}, \"y\": {\"type\": \"quantitative\", \"field\": \"ci_low\"}, \"y2\": {\"field\": \"ci_high\"}}}]}, \"title\": \"Muscle Proportion Estimates\", \"$schema\": \"https://vega.github.io/schema/vega-lite/v4.8.1.json\", \"datasets\": {\"data-b72c6f891426c11525a06e27500d1bf9\": [{\"index\": \"Bulk 0\", \"cell_type\": \"B cell\", \"proportion\": 0.027959298067632518, \"ci_err\": 0.03656659048009579, \"ci_low\": 0.0, \"ci_high\": 0.06452588854772831}, {\"index\": \"Bulk 1\", \"cell_type\": \"B cell\", \"proportion\": 0.03786179172914142, \"ci_err\": 0.03602758476996212, \"ci_low\": 0.0018342069591792964, \"ci_high\": 0.07388937649910354}, {\"index\": \"Bulk 0\", \"cell_type\": \"T cell\", \"proportion\": 0.0, \"ci_err\": 0.01992898235371815, \"ci_low\": 0.0, \"ci_high\": 0.01992898235371815}, {\"index\": \"Bulk 1\", \"cell_type\": \"T cell\", \"proportion\": 0.0, \"ci_err\": 0.01979503227983546, \"ci_low\": 0.0, \"ci_high\": 0.01979503227983546}, {\"index\": \"Bulk 0\", \"cell_type\": \"endothelial cell\", \"proportion\": 0.14995096488656953, \"ci_err\": 0.03371160912790189, \"ci_low\": 0.11623935575866765, \"ci_high\": 0.18366257401447142}, {\"index\": \"Bulk 1\", \"cell_type\": \"endothelial cell\", \"proportion\": 0.14134561306481142, \"ci_err\": 0.030485816101023827, \"ci_low\": 0.11085979696378759, \"ci_high\": 0.17183142916583524}, {\"index\": \"Bulk 0\", \"cell_type\": \"macrophage\", \"proportion\": 0.24341413315836113, \"ci_err\": 0.0478391890147003, \"ci_low\": 0.19557494414366083, \"ci_high\": 0.29125332217306144}, {\"index\": \"Bulk 1\", \"cell_type\": \"macrophage\", \"proportion\": 0.28656471425003616, \"ci_err\": 0.041965432795249225, \"ci_low\": 0.24459928145478693, \"ci_high\": 0.3285301470452854}, {\"index\": \"Bulk 0\", \"cell_type\": \"mesenchymal stem cell\", \"proportion\": 0.1463784910885809, \"ci_err\": 0.057968414848343336, \"ci_low\": 0.08841007624023756, \"ci_high\": 0.20434690593692423}, {\"index\": \"Bulk 1\", \"cell_type\": \"mesenchymal stem cell\", \"proportion\": 0.21922766197204696, \"ci_err\": 0.05142934546827277, \"ci_low\": 0.1677983165037742, \"ci_high\": 0.27065700744031973}, {\"index\": \"Bulk 0\", \"cell_type\": \"skeletal muscle satellite cell\", \"proportion\": 0.4322971127988559, \"ci_err\": 0.025568905092488492, \"ci_low\": 0.4067282077063674, \"ci_high\": 0.4578660178913444}, {\"index\": \"Bulk 1\", \"cell_type\": \"skeletal muscle satellite cell\", \"proportion\": 0.315000218983964, \"ci_err\": 0.026142863958298068, \"ci_low\": 0.28885735502566595, \"ci_high\": 0.3411430829422621}]}}, {\"mode\": \"vega-lite\"});\n",
       "</script>"
      ],
      "text/plain": [
       "alt.FacetChart(...)"
      ]
     },
     "execution_count": 15,
     "metadata": {},
     "output_type": "execute_result"
    }
   ],
   "source": [
    "model.plot_proportions('bar').properties(title=\"Muscle Proportion Estimates\")"
   ]
  },
  {
   "cell_type": "code",
   "execution_count": 16,
   "metadata": {},
   "outputs": [
    {
     "data": {
      "text/html": [
       "\n",
       "<div id=\"altair-viz-2b23f2deacb54f0fbb08a6bf8427fae7\"></div>\n",
       "<script type=\"text/javascript\">\n",
       "  (function(spec, embedOpt){\n",
       "    let outputDiv = document.currentScript.previousElementSibling;\n",
       "    if (outputDiv.id !== \"altair-viz-2b23f2deacb54f0fbb08a6bf8427fae7\") {\n",
       "      outputDiv = document.getElementById(\"altair-viz-2b23f2deacb54f0fbb08a6bf8427fae7\");\n",
       "    }\n",
       "    const paths = {\n",
       "      \"vega\": \"https://cdn.jsdelivr.net/npm//vega@5?noext\",\n",
       "      \"vega-lib\": \"https://cdn.jsdelivr.net/npm//vega-lib?noext\",\n",
       "      \"vega-lite\": \"https://cdn.jsdelivr.net/npm//vega-lite@4.8.1?noext\",\n",
       "      \"vega-embed\": \"https://cdn.jsdelivr.net/npm//vega-embed@6?noext\",\n",
       "    };\n",
       "\n",
       "    function loadScript(lib) {\n",
       "      return new Promise(function(resolve, reject) {\n",
       "        var s = document.createElement('script');\n",
       "        s.src = paths[lib];\n",
       "        s.async = true;\n",
       "        s.onload = () => resolve(paths[lib]);\n",
       "        s.onerror = () => reject(`Error loading script: ${paths[lib]}`);\n",
       "        document.getElementsByTagName(\"head\")[0].appendChild(s);\n",
       "      });\n",
       "    }\n",
       "\n",
       "    function showError(err) {\n",
       "      outputDiv.innerHTML = `<div class=\"error\" style=\"color:red;\">${err}</div>`;\n",
       "      throw err;\n",
       "    }\n",
       "\n",
       "    function displayChart(vegaEmbed) {\n",
       "      vegaEmbed(outputDiv, spec, embedOpt)\n",
       "        .catch(err => showError(`Javascript Error: ${err.message}<br>This usually means there's a typo in your chart specification. See the javascript console for the full traceback.`));\n",
       "    }\n",
       "\n",
       "    if(typeof define === \"function\" && define.amd) {\n",
       "      requirejs.config({paths});\n",
       "      require([\"vega-embed\"], displayChart, err => showError(`Error loading script: ${err.message}`));\n",
       "    } else if (typeof vegaEmbed === \"function\") {\n",
       "      displayChart(vegaEmbed);\n",
       "    } else {\n",
       "      loadScript(\"vega\")\n",
       "        .then(() => loadScript(\"vega-lite\"))\n",
       "        .then(() => loadScript(\"vega-embed\"))\n",
       "        .catch(showError)\n",
       "        .then(() => displayChart(vegaEmbed));\n",
       "    }\n",
       "  })({\"config\": {\"view\": {\"continuousWidth\": 400, \"continuousHeight\": 300}}, \"data\": {\"name\": \"data-b72c6f891426c11525a06e27500d1bf9\"}, \"mark\": \"bar\", \"encoding\": {\"color\": {\"type\": \"nominal\", \"field\": \"cell_type\"}, \"x\": {\"type\": \"nominal\", \"axis\": {\"title\": \"Bulk\"}, \"field\": \"index\"}, \"y\": {\"type\": \"quantitative\", \"aggregate\": \"sum\", \"axis\": {\"title\": \"Proportion\"}, \"field\": \"proportion\", \"stack\": \"normalize\"}}, \"title\": \"Muscle Proportion Estimates\", \"$schema\": \"https://vega.github.io/schema/vega-lite/v4.8.1.json\", \"datasets\": {\"data-b72c6f891426c11525a06e27500d1bf9\": [{\"index\": \"Bulk 0\", \"cell_type\": \"B cell\", \"proportion\": 0.027959298067632518, \"ci_err\": 0.03656659048009579, \"ci_low\": 0.0, \"ci_high\": 0.06452588854772831}, {\"index\": \"Bulk 1\", \"cell_type\": \"B cell\", \"proportion\": 0.03786179172914142, \"ci_err\": 0.03602758476996212, \"ci_low\": 0.0018342069591792964, \"ci_high\": 0.07388937649910354}, {\"index\": \"Bulk 0\", \"cell_type\": \"T cell\", \"proportion\": 0.0, \"ci_err\": 0.01992898235371815, \"ci_low\": 0.0, \"ci_high\": 0.01992898235371815}, {\"index\": \"Bulk 1\", \"cell_type\": \"T cell\", \"proportion\": 0.0, \"ci_err\": 0.01979503227983546, \"ci_low\": 0.0, \"ci_high\": 0.01979503227983546}, {\"index\": \"Bulk 0\", \"cell_type\": \"endothelial cell\", \"proportion\": 0.14995096488656953, \"ci_err\": 0.03371160912790189, \"ci_low\": 0.11623935575866765, \"ci_high\": 0.18366257401447142}, {\"index\": \"Bulk 1\", \"cell_type\": \"endothelial cell\", \"proportion\": 0.14134561306481142, \"ci_err\": 0.030485816101023827, \"ci_low\": 0.11085979696378759, \"ci_high\": 0.17183142916583524}, {\"index\": \"Bulk 0\", \"cell_type\": \"macrophage\", \"proportion\": 0.24341413315836113, \"ci_err\": 0.0478391890147003, \"ci_low\": 0.19557494414366083, \"ci_high\": 0.29125332217306144}, {\"index\": \"Bulk 1\", \"cell_type\": \"macrophage\", \"proportion\": 0.28656471425003616, \"ci_err\": 0.041965432795249225, \"ci_low\": 0.24459928145478693, \"ci_high\": 0.3285301470452854}, {\"index\": \"Bulk 0\", \"cell_type\": \"mesenchymal stem cell\", \"proportion\": 0.1463784910885809, \"ci_err\": 0.057968414848343336, \"ci_low\": 0.08841007624023756, \"ci_high\": 0.20434690593692423}, {\"index\": \"Bulk 1\", \"cell_type\": \"mesenchymal stem cell\", \"proportion\": 0.21922766197204696, \"ci_err\": 0.05142934546827277, \"ci_low\": 0.1677983165037742, \"ci_high\": 0.27065700744031973}, {\"index\": \"Bulk 0\", \"cell_type\": \"skeletal muscle satellite cell\", \"proportion\": 0.4322971127988559, \"ci_err\": 0.025568905092488492, \"ci_low\": 0.4067282077063674, \"ci_high\": 0.4578660178913444}, {\"index\": \"Bulk 1\", \"cell_type\": \"skeletal muscle satellite cell\", \"proportion\": 0.315000218983964, \"ci_err\": 0.026142863958298068, \"ci_low\": 0.28885735502566595, \"ci_high\": 0.3411430829422621}]}}, {\"mode\": \"vega-lite\"});\n",
       "</script>"
      ],
      "text/plain": [
       "alt.Chart(...)"
      ]
     },
     "execution_count": 16,
     "metadata": {},
     "output_type": "execute_result"
    }
   ],
   "source": [
    "model.plot_proportions('stacked').properties(title=\"Muscle Proportion Estimates\")"
   ]
  },
  {
   "cell_type": "code",
   "execution_count": null,
   "metadata": {},
   "outputs": [],
   "source": []
  }
 ],
 "metadata": {
  "kernelspec": {
   "display_name": "Python 3",
   "language": "python",
   "name": "python3"
  },
  "language_info": {
   "codemirror_mode": {
    "name": "ipython",
    "version": 3
   },
   "file_extension": ".py",
   "mimetype": "text/x-python",
   "name": "python",
   "nbconvert_exporter": "python",
   "pygments_lexer": "ipython3",
   "version": "3.7.3"
  }
 },
 "nbformat": 4,
 "nbformat_minor": 2
}
